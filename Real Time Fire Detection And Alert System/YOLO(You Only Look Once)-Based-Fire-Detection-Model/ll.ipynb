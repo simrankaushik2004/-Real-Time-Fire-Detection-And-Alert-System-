{
 "cells": [
  {
   "cell_type": "code",
   "execution_count": 1,
   "metadata": {},
   "outputs": [
    {
     "name": "stdout",
     "output_type": "stream",
     "text": [
      "📍 Location: Delhi (28.6519, 77.2315)\n",
      "🌍 Google Maps Link: https://maps.google.com/?q=28.6519,77.2315\n",
      "📍 Location: Delhi (28.6519, 77.2315)\n",
      "🌍 Google Maps: https://maps.google.com/?q=28.6519,77.2315\n"
     ]
    }
   ],
   "source": [
    "import requests\n",
    "\n",
    "def get_location():\n",
    "    try:\n",
    "        response = requests.get(\"https://ipinfo.io/json\").json()\n",
    "        loc = response.get(\"loc\", \"Unknown Location\")  # lat,long format\n",
    "        city = response.get(\"city\", \"Unknown City\")\n",
    "        \n",
    "        if loc != \"Unknown Location\":\n",
    "            latitude, longitude = loc.split(\",\")\n",
    "            google_maps_link = f\"https://maps.google.com/?q={latitude},{longitude}\"\n",
    "            print(f\"📍 Location: {city} ({latitude}, {longitude})\")\n",
    "            print(f\"🌍 Google Maps Link: {google_maps_link}\")  # ✅ Debugging\n",
    "            return f\"📍 Location: {city} ({latitude}, {longitude})\\n🌍 Google Maps: {google_maps_link}\"\n",
    "        else:\n",
    "            return \"Location: Not Available\"\n",
    "    \n",
    "    except Exception as e:\n",
    "        print(f\"Error fetching location: {e}\")\n",
    "        return \"Location: Not Available\"\n",
    "\n",
    "# Run the function and check output\n",
    "print(get_location())\n"
   ]
  },
  {
   "cell_type": "code",
   "execution_count": null,
   "metadata": {},
   "outputs": [],
   "source": []
  }
 ],
 "metadata": {
  "kernelspec": {
   "display_name": "Python 3",
   "language": "python",
   "name": "python3"
  },
  "language_info": {
   "codemirror_mode": {
    "name": "ipython",
    "version": 3
   },
   "file_extension": ".py",
   "mimetype": "text/x-python",
   "name": "python",
   "nbconvert_exporter": "python",
   "pygments_lexer": "ipython3",
   "version": "3.12.4"
  }
 },
 "nbformat": 4,
 "nbformat_minor": 2
}
